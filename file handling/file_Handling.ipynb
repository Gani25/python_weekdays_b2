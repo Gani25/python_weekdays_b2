{
 "cells": [
  {
   "cell_type": "markdown",
   "id": "be46c69f-c841-4e8f-b7c6-9525384d1390",
   "metadata": {},
   "source": [
    "# Reading Txt File "
   ]
  },
  {
   "cell_type": "code",
   "execution_count": 1,
   "id": "be45ee17-7797-4105-95cb-b358c9284623",
   "metadata": {},
   "outputs": [
    {
     "ename": "FileNotFoundError",
     "evalue": "[Errno 2] No such file or directory: 'demo.txt'",
     "output_type": "error",
     "traceback": [
      "\u001b[1;31m---------------------------------------------------------------------------\u001b[0m",
      "\u001b[1;31mFileNotFoundError\u001b[0m                         Traceback (most recent call last)",
      "Cell \u001b[1;32mIn[1], line 1\u001b[0m\n\u001b[1;32m----> 1\u001b[0m file \u001b[38;5;241m=\u001b[39m \u001b[38;5;28;43mopen\u001b[39;49m\u001b[43m(\u001b[49m\u001b[43mfile\u001b[49m\u001b[38;5;241;43m=\u001b[39;49m\u001b[38;5;124;43m\"\u001b[39;49m\u001b[38;5;124;43mdemo.txt\u001b[39;49m\u001b[38;5;124;43m\"\u001b[39;49m\u001b[43m,\u001b[49m\u001b[43mmode\u001b[49m\u001b[38;5;241;43m=\u001b[39;49m\u001b[38;5;124;43m\"\u001b[39;49m\u001b[38;5;124;43mr\u001b[39;49m\u001b[38;5;124;43m\"\u001b[39;49m\u001b[43m)\u001b[49m\n\u001b[0;32m      2\u001b[0m \u001b[38;5;28mprint\u001b[39m(file)\n",
      "File \u001b[1;32m~\\AppData\\Local\\Programs\\Python\\Python312\\Lib\\site-packages\\IPython\\core\\interactiveshell.py:324\u001b[0m, in \u001b[0;36m_modified_open\u001b[1;34m(file, *args, **kwargs)\u001b[0m\n\u001b[0;32m    317\u001b[0m \u001b[38;5;28;01mif\u001b[39;00m file \u001b[38;5;129;01min\u001b[39;00m {\u001b[38;5;241m0\u001b[39m, \u001b[38;5;241m1\u001b[39m, \u001b[38;5;241m2\u001b[39m}:\n\u001b[0;32m    318\u001b[0m     \u001b[38;5;28;01mraise\u001b[39;00m \u001b[38;5;167;01mValueError\u001b[39;00m(\n\u001b[0;32m    319\u001b[0m         \u001b[38;5;124mf\u001b[39m\u001b[38;5;124m\"\u001b[39m\u001b[38;5;124mIPython won\u001b[39m\u001b[38;5;124m'\u001b[39m\u001b[38;5;124mt let you open fd=\u001b[39m\u001b[38;5;132;01m{\u001b[39;00mfile\u001b[38;5;132;01m}\u001b[39;00m\u001b[38;5;124m by default \u001b[39m\u001b[38;5;124m\"\u001b[39m\n\u001b[0;32m    320\u001b[0m         \u001b[38;5;124m\"\u001b[39m\u001b[38;5;124mas it is likely to crash IPython. If you know what you are doing, \u001b[39m\u001b[38;5;124m\"\u001b[39m\n\u001b[0;32m    321\u001b[0m         \u001b[38;5;124m\"\u001b[39m\u001b[38;5;124myou can use builtins\u001b[39m\u001b[38;5;124m'\u001b[39m\u001b[38;5;124m open.\u001b[39m\u001b[38;5;124m\"\u001b[39m\n\u001b[0;32m    322\u001b[0m     )\n\u001b[1;32m--> 324\u001b[0m \u001b[38;5;28;01mreturn\u001b[39;00m \u001b[43mio_open\u001b[49m\u001b[43m(\u001b[49m\u001b[43mfile\u001b[49m\u001b[43m,\u001b[49m\u001b[43m \u001b[49m\u001b[38;5;241;43m*\u001b[39;49m\u001b[43margs\u001b[49m\u001b[43m,\u001b[49m\u001b[43m \u001b[49m\u001b[38;5;241;43m*\u001b[39;49m\u001b[38;5;241;43m*\u001b[39;49m\u001b[43mkwargs\u001b[49m\u001b[43m)\u001b[49m\n",
      "\u001b[1;31mFileNotFoundError\u001b[0m: [Errno 2] No such file or directory: 'demo.txt'"
     ]
    }
   ],
   "source": [
    "file = open(file=\"demo.txt\",mode=\"r\")\n",
    "print(file)"
   ]
  },
  {
   "cell_type": "code",
   "execution_count": 2,
   "id": "5d988e2a-5962-439e-ac3d-e2b1bcc26b79",
   "metadata": {},
   "outputs": [
    {
     "name": "stdout",
     "output_type": "stream",
     "text": [
      "<_io.TextIOWrapper name='demo.txt' mode='w' encoding='cp1252'>\n"
     ]
    }
   ],
   "source": [
    "file = open(file=\"demo.txt\",mode=\"w\")\n",
    "print(file)"
   ]
  },
  {
   "cell_type": "code",
   "execution_count": 3,
   "id": "da1d0c1f-b4a0-45a3-b6c9-eebe7758ce62",
   "metadata": {},
   "outputs": [
    {
     "name": "stdout",
     "output_type": "stream",
     "text": [
      "<_io.TextIOWrapper name='demo.txt' mode='r' encoding='cp1252'>\n"
     ]
    }
   ],
   "source": [
    "file = open(file=\"demo.txt\",mode=\"r\")\n",
    "print(file)"
   ]
  },
  {
   "cell_type": "code",
   "execution_count": 5,
   "id": "95217d68-d857-4b4d-af36-1192cdeda241",
   "metadata": {},
   "outputs": [
    {
     "name": "stdout",
     "output_type": "stream",
     "text": [
      "<_io.TextIOWrapper name='demo.txt' mode='r' encoding='cp1252'>\n",
      "Hello\n",
      "\n",
      "Welcome To \n",
      "\n",
      "SPRK Tech\n"
     ]
    }
   ],
   "source": [
    "file = open(file=\"demo.txt\",mode=\"r\")\n",
    "print(file)\n",
    "for line in file:\n",
    "    print(line)\n",
    "file.close()"
   ]
  },
  {
   "cell_type": "code",
   "execution_count": 8,
   "id": "4241c7f5-b010-4632-8805-cd8c43f0632b",
   "metadata": {},
   "outputs": [
    {
     "name": "stdout",
     "output_type": "stream",
     "text": [
      "Hello\n",
      "\n",
      "Welcome To \n",
      "\n",
      "SPRK Tech\n"
     ]
    }
   ],
   "source": [
    "with open(\"demo.txt\", \"r\") as file:\n",
    "    for line in file:\n",
    "        print(line)\n"
   ]
  },
  {
   "cell_type": "code",
   "execution_count": 12,
   "id": "d65f3b3c-6e92-4d75-8d32-133c201644c0",
   "metadata": {},
   "outputs": [
    {
     "name": "stdout",
     "output_type": "stream",
     "text": [
      "['Hello\\n', 'Welcome To \\n', 'SPRK Tech']\n",
      "<class 'list'>\n",
      "Hello\n",
      "\n",
      "Welcome To \n",
      "\n",
      "SPRK Tech\n"
     ]
    }
   ],
   "source": [
    "with open(\"demo.txt\", \"r\") as file:\n",
    "    statements = file.readlines()\n",
    "    print(statements)\n",
    "    print(type(statements))\n",
    "\n",
    "    for line in statements:\n",
    "        print(line)"
   ]
  },
  {
   "cell_type": "markdown",
   "id": "25196e8f-9024-46ea-a275-1e509f8f1044",
   "metadata": {},
   "source": [
    "# Writing into file"
   ]
  },
  {
   "cell_type": "code",
   "execution_count": 16,
   "id": "9cfbc91e-9587-4ca2-a05a-c971567ea397",
   "metadata": {},
   "outputs": [],
   "source": [
    "with open(\"demo.txt\",\"w\") as file:\n",
    "    file.write(\"Bye\")"
   ]
  },
  {
   "cell_type": "code",
   "execution_count": 17,
   "id": "f508e233-7f32-4e26-af86-225b4a433b9f",
   "metadata": {},
   "outputs": [],
   "source": [
    "with open(\"demo.txt\",\"a\") as file:\n",
    "    file.write(\"\\nSPRK TECH\")"
   ]
  },
  {
   "cell_type": "code",
   "execution_count": 18,
   "id": "54cfae3f-7975-4e8c-80b0-ef3c2840f4c9",
   "metadata": {},
   "outputs": [
    {
     "name": "stdout",
     "output_type": "stream",
     "text": [
      "Bye\n",
      "\n",
      "SPRK TECH\n",
      "\n",
      "Python\n",
      "\n",
      "Best Language\n"
     ]
    }
   ],
   "source": [
    "with open(\"demo.txt\",\"a\") as file:\n",
    "    file.writelines([\"\\nPython\\n\",\"Best Language\"])\n",
    "with open(\"demo.txt\", \"r\") as file:\n",
    "    for line in file:\n",
    "        print(line)\n"
   ]
  },
  {
   "cell_type": "code",
   "execution_count": 20,
   "id": "3a80e910-d38b-4aa0-bb36-3237a668d6a3",
   "metadata": {},
   "outputs": [
    {
     "name": "stdout",
     "output_type": "stream",
     "text": [
      "Bye\n",
      "SPRK TECH\n",
      "Python\n",
      "Best Language"
     ]
    }
   ],
   "source": [
    "with open(\"demo.txt\", \"r\") as file:\n",
    "    for line in file:\n",
    "        print(line, end=\"\")"
   ]
  },
  {
   "cell_type": "markdown",
   "id": "311e6689-b062-4e55-ab4c-86f13f5125de",
   "metadata": {},
   "source": [
    "# Read CSV file"
   ]
  },
  {
   "cell_type": "code",
   "execution_count": 36,
   "id": "c02fdc4e-90af-437b-bb01-a08fe7abcbc0",
   "metadata": {},
   "outputs": [
    {
     "name": "stdout",
     "output_type": "stream",
     "text": [
      "Amit,English,78\n",
      "\n",
      "Priya,English,82\n",
      "\n",
      "Rohit,English,65\n",
      "\n",
      "Sneha,English,91\n",
      "\n",
      "Vikram,English,74\n",
      "\n",
      "Anita,English,88\n",
      "\n",
      "Karan,English,56\n",
      "\n",
      "Meera,English,92\n",
      "\n",
      "Ravi,English,68\n",
      "\n",
      "Pooja,English,85\n",
      "\n",
      "Amit,Science,73\n",
      "\n",
      "Priya,Science,80\n",
      "\n",
      "Rohit,Science,59\n",
      "\n",
      "Sneha,Science,95\n",
      "\n",
      "Vikram,Science,67\n",
      "\n",
      "Anita,Science,77\n",
      "\n",
      "Karan,Science,89\n",
      "\n",
      "Meera,Science,62\n",
      "\n",
      "Ravi,Science,71\n",
      "\n",
      "Pooja,Science,83\n",
      "\n",
      "Amit,History,64\n",
      "\n",
      "Priya,History,87\n",
      "\n",
      "Rohit,History,90\n",
      "\n",
      "Sneha,History,55\n",
      "\n",
      "Vikram,History,79\n",
      "\n",
      "Anita,History,93\n",
      "\n",
      "Karan,History,61\n",
      "\n",
      "Meera,History,72\n",
      "\n",
      "Ravi,History,84\n",
      "\n",
      "Pooja,History,70\n",
      "\n",
      "Amit,SQL,15\n",
      "\n",
      "Meera,SQL,65\n",
      "\n"
     ]
    }
   ],
   "source": [
    "with open(\"book1.csv\",\"r\") as csv_file:\n",
    "    for line in csv_file:\n",
    "        print(line)"
   ]
  },
  {
   "cell_type": "code",
   "execution_count": 37,
   "id": "824c8f31-e1f0-47e1-b81f-08a5fc791e12",
   "metadata": {},
   "outputs": [
    {
     "name": "stdout",
     "output_type": "stream",
     "text": [
      "Name =  Amit\n",
      "Mark = 78\n",
      "\n",
      "Name =  Priya\n",
      "Mark = 82\n",
      "\n",
      "Name =  Rohit\n",
      "Mark = 65\n",
      "\n",
      "Name =  Sneha\n",
      "Mark = 91\n",
      "\n",
      "Name =  Vikram\n",
      "Mark = 74\n",
      "\n",
      "Name =  Anita\n",
      "Mark = 88\n",
      "\n",
      "Name =  Karan\n",
      "Mark = 56\n",
      "\n",
      "Name =  Meera\n",
      "Mark = 92\n",
      "\n",
      "Name =  Ravi\n",
      "Mark = 68\n",
      "\n",
      "Name =  Pooja\n",
      "Mark = 85\n",
      "\n",
      "Name =  Amit\n",
      "Mark = 73\n",
      "\n",
      "Name =  Priya\n",
      "Mark = 80\n",
      "\n",
      "Name =  Rohit\n",
      "Mark = 59\n",
      "\n",
      "Name =  Sneha\n",
      "Mark = 95\n",
      "\n",
      "Name =  Vikram\n",
      "Mark = 67\n",
      "\n",
      "Name =  Anita\n",
      "Mark = 77\n",
      "\n",
      "Name =  Karan\n",
      "Mark = 89\n",
      "\n",
      "Name =  Meera\n",
      "Mark = 62\n",
      "\n",
      "Name =  Ravi\n",
      "Mark = 71\n",
      "\n",
      "Name =  Pooja\n",
      "Mark = 83\n",
      "\n",
      "Name =  Amit\n",
      "Mark = 64\n",
      "\n",
      "Name =  Priya\n",
      "Mark = 87\n",
      "\n",
      "Name =  Rohit\n",
      "Mark = 90\n",
      "\n",
      "Name =  Sneha\n",
      "Mark = 55\n",
      "\n",
      "Name =  Vikram\n",
      "Mark = 79\n",
      "\n",
      "Name =  Anita\n",
      "Mark = 93\n",
      "\n",
      "Name =  Karan\n",
      "Mark = 61\n",
      "\n",
      "Name =  Meera\n",
      "Mark = 72\n",
      "\n",
      "Name =  Ravi\n",
      "Mark = 84\n",
      "\n",
      "Name =  Pooja\n",
      "Mark = 70\n",
      "\n",
      "Name =  Amit\n",
      "Mark = 15\n",
      "\n",
      "Name =  Meera\n",
      "Mark = 65\n",
      "\n"
     ]
    }
   ],
   "source": [
    "# Used to store student info\n",
    "students_data = {}\n",
    "\n",
    "with open(\"book1.csv\",\"r\") as csv_file:\n",
    "    for line in csv_file:\n",
    "        student_name, subject, mark = line.split(\",\")\n",
    "        print(\"Name = \",student_name)\n",
    "        print(\"Mark =\",mark)\n",
    "        "
   ]
  },
  {
   "cell_type": "code",
   "execution_count": 38,
   "id": "4e3ee66a-afb1-4006-ae07-7c338ca757e7",
   "metadata": {},
   "outputs": [
    {
     "name": "stdout",
     "output_type": "stream",
     "text": [
      "{'Amit': [78, 73, 64, 15], 'Priya': [82, 80, 87], 'Rohit': [65, 59, 90], 'Sneha': [91, 95, 55], 'Vikram': [74, 67, 79], 'Anita': [88, 77, 93], 'Karan': [56, 89, 61], 'Meera': [92, 62, 72, 65], 'Ravi': [68, 71, 84], 'Pooja': [85, 83, 70]}\n",
      "10\n"
     ]
    }
   ],
   "source": [
    "# Used to store student info\n",
    "students_data = {}\n",
    "\n",
    "with open(\"book1.csv\",\"r\") as csv_file:\n",
    "    for line in csv_file:\n",
    "        student_name, subject, mark = line.split(\",\")\n",
    "        mark = int(mark.strip())\n",
    "        if student_name in students_data:\n",
    "            students_data[student_name].append(mark)\n",
    "        else:\n",
    "            students_data[student_name] = list([mark]) \n",
    "    print(students_data)\n",
    "    print(len(students_data))\n",
    "        "
   ]
  },
  {
   "cell_type": "code",
   "execution_count": 39,
   "id": "f84d7aab-426f-4657-a3ab-0978be835ef5",
   "metadata": {},
   "outputs": [
    {
     "name": "stdout",
     "output_type": "stream",
     "text": [
      "---------------------------------------------------------------------\n",
      "Student Name:  Amit\n",
      "Marks:  [78, 73, 64, 15]\n",
      "Total Marks:  230\n",
      "Average Marks:  57.5\n",
      "Maximum Marks:  78\n",
      "Minimum Marks:  15\n",
      "---------------------------------------------------------------------\n",
      "---------------------------------------------------------------------\n",
      "Student Name:  Priya\n",
      "Marks:  [82, 80, 87]\n",
      "Total Marks:  249\n",
      "Average Marks:  83.0\n",
      "Maximum Marks:  87\n",
      "Minimum Marks:  80\n",
      "---------------------------------------------------------------------\n",
      "---------------------------------------------------------------------\n",
      "Student Name:  Rohit\n",
      "Marks:  [65, 59, 90]\n",
      "Total Marks:  214\n",
      "Average Marks:  71.33\n",
      "Maximum Marks:  90\n",
      "Minimum Marks:  59\n",
      "---------------------------------------------------------------------\n",
      "---------------------------------------------------------------------\n",
      "Student Name:  Sneha\n",
      "Marks:  [91, 95, 55]\n",
      "Total Marks:  241\n",
      "Average Marks:  80.33\n",
      "Maximum Marks:  95\n",
      "Minimum Marks:  55\n",
      "---------------------------------------------------------------------\n",
      "---------------------------------------------------------------------\n",
      "Student Name:  Vikram\n",
      "Marks:  [74, 67, 79]\n",
      "Total Marks:  220\n",
      "Average Marks:  73.33\n",
      "Maximum Marks:  79\n",
      "Minimum Marks:  67\n",
      "---------------------------------------------------------------------\n",
      "---------------------------------------------------------------------\n",
      "Student Name:  Anita\n",
      "Marks:  [88, 77, 93]\n",
      "Total Marks:  258\n",
      "Average Marks:  86.0\n",
      "Maximum Marks:  93\n",
      "Minimum Marks:  77\n",
      "---------------------------------------------------------------------\n",
      "---------------------------------------------------------------------\n",
      "Student Name:  Karan\n",
      "Marks:  [56, 89, 61]\n",
      "Total Marks:  206\n",
      "Average Marks:  68.67\n",
      "Maximum Marks:  89\n",
      "Minimum Marks:  56\n",
      "---------------------------------------------------------------------\n",
      "---------------------------------------------------------------------\n",
      "Student Name:  Meera\n",
      "Marks:  [92, 62, 72, 65]\n",
      "Total Marks:  291\n",
      "Average Marks:  72.75\n",
      "Maximum Marks:  92\n",
      "Minimum Marks:  62\n",
      "---------------------------------------------------------------------\n",
      "---------------------------------------------------------------------\n",
      "Student Name:  Ravi\n",
      "Marks:  [68, 71, 84]\n",
      "Total Marks:  223\n",
      "Average Marks:  74.33\n",
      "Maximum Marks:  84\n",
      "Minimum Marks:  68\n",
      "---------------------------------------------------------------------\n",
      "---------------------------------------------------------------------\n",
      "Student Name:  Pooja\n",
      "Marks:  [85, 83, 70]\n",
      "Total Marks:  238\n",
      "Average Marks:  79.33\n",
      "Maximum Marks:  85\n",
      "Minimum Marks:  70\n",
      "---------------------------------------------------------------------\n"
     ]
    }
   ],
   "source": [
    "# Sum and Avg\n",
    "for student, marks in students_data.items():\n",
    "    print(\"---------------------------------------------------------------------\")\n",
    "    print(\"Student Name: \",student)\n",
    "    print(\"Marks: \",marks)\n",
    "    print(\"Total Marks: \",sum(marks))\n",
    "    print(\"Average Marks: \",round(sum(marks)/len(marks),2))\n",
    "    print(\"Maximum Marks: \",max(marks))\n",
    "    print(\"Minimum Marks: \",min(marks))\n",
    "    print(\"---------------------------------------------------------------------\")"
   ]
  },
  {
   "cell_type": "markdown",
   "id": "7e5dce33-d171-442c-8460-348fef53528e",
   "metadata": {},
   "source": [
    "# Delete File"
   ]
  },
  {
   "cell_type": "code",
   "execution_count": 40,
   "id": "32db622a-ef18-47e0-a80c-0bc6c26ca123",
   "metadata": {},
   "outputs": [],
   "source": [
    "import os"
   ]
  },
  {
   "cell_type": "code",
   "execution_count": 42,
   "id": "c9513f0f-1c5e-404d-9d28-831e58603a1a",
   "metadata": {},
   "outputs": [
    {
     "name": "stdout",
     "output_type": "stream",
     "text": [
      "File Deleted Successfully\n"
     ]
    }
   ],
   "source": [
    "if os.path.exists(\"demo.txt\"):\n",
    "    os.remove(\"demo.txt\")\n",
    "    print(\"File Deleted Successfully\")\n",
    "else:\n",
    "    print(\"File Not Found\")"
   ]
  },
  {
   "cell_type": "code",
   "execution_count": 43,
   "id": "ee5eca9d-013f-4155-8977-4f465e1f53c2",
   "metadata": {},
   "outputs": [
    {
     "name": "stdout",
     "output_type": "stream",
     "text": [
      "File Not Found\n"
     ]
    }
   ],
   "source": [
    "if os.path.exists(\"demo.txt\"):\n",
    "    os.remove(\"demo.txt\")\n",
    "    print(\"File Deleted Successfully\")\n",
    "else:\n",
    "    print(\"File Not Found\")"
   ]
  },
  {
   "cell_type": "code",
   "execution_count": 46,
   "id": "a90cebe4-eb6b-47e1-8a58-1960a9aef160",
   "metadata": {},
   "outputs": [
    {
     "ename": "FileNotFoundError",
     "evalue": "[WinError 2] The system cannot find the file specified: 'demo.txt'",
     "output_type": "error",
     "traceback": [
      "\u001b[1;31m---------------------------------------------------------------------------\u001b[0m",
      "\u001b[1;31mFileNotFoundError\u001b[0m                         Traceback (most recent call last)",
      "Cell \u001b[1;32mIn[46], line 1\u001b[0m\n\u001b[1;32m----> 1\u001b[0m \u001b[43mos\u001b[49m\u001b[38;5;241;43m.\u001b[39;49m\u001b[43mremove\u001b[49m\u001b[43m(\u001b[49m\u001b[38;5;124;43m\"\u001b[39;49m\u001b[38;5;124;43mdemo.txt\u001b[39;49m\u001b[38;5;124;43m\"\u001b[39;49m\u001b[43m)\u001b[49m\n",
      "\u001b[1;31mFileNotFoundError\u001b[0m: [WinError 2] The system cannot find the file specified: 'demo.txt'"
     ]
    }
   ],
   "source": [
    "os.remove(\"demo.txt\")"
   ]
  },
  {
   "cell_type": "code",
   "execution_count": null,
   "id": "f4c0dcbe-786c-470f-9ef2-f0434a238da0",
   "metadata": {},
   "outputs": [],
   "source": []
  }
 ],
 "metadata": {
  "kernelspec": {
   "display_name": "Python 3 (ipykernel)",
   "language": "python",
   "name": "python3"
  },
  "language_info": {
   "codemirror_mode": {
    "name": "ipython",
    "version": 3
   },
   "file_extension": ".py",
   "mimetype": "text/x-python",
   "name": "python",
   "nbconvert_exporter": "python",
   "pygments_lexer": "ipython3",
   "version": "3.12.0"
  }
 },
 "nbformat": 4,
 "nbformat_minor": 5
}
