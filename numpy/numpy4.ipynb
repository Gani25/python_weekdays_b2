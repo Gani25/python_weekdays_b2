{
 "cells": [
  {
   "cell_type": "markdown",
   "id": "2b367bed-7bbc-4792-8c5b-a5f0ff439acb",
   "metadata": {},
   "source": [
    "# Slicing Of Matrix"
   ]
  },
  {
   "cell_type": "code",
   "execution_count": 1,
   "id": "177e8aff-1bfb-418d-b1f9-9d954270b91c",
   "metadata": {},
   "outputs": [],
   "source": [
    "import numpy as np"
   ]
  },
  {
   "cell_type": "code",
   "execution_count": 5,
   "id": "3594183f-d93b-45a9-aa1f-c6e7e0b5bb83",
   "metadata": {},
   "outputs": [],
   "source": [
    "arr = np.array([5,1,7,9,3,10,20,30,60,-9])"
   ]
  },
  {
   "cell_type": "code",
   "execution_count": 6,
   "id": "54b44e72-c9c0-4426-b173-f15f810adc82",
   "metadata": {},
   "outputs": [
    {
     "data": {
      "text/plain": [
       "array([ 5,  1,  7,  9,  3, 10, 20, 30, 60, -9])"
      ]
     },
     "execution_count": 6,
     "metadata": {},
     "output_type": "execute_result"
    }
   ],
   "source": [
    "arr"
   ]
  },
  {
   "cell_type": "code",
   "execution_count": 7,
   "id": "b7c6d90a-900e-4443-82fc-1880204b8324",
   "metadata": {},
   "outputs": [
    {
     "data": {
      "text/plain": [
       "array([ 5,  1,  7,  9,  3, 10, 20, 30, 60, -9])"
      ]
     },
     "execution_count": 7,
     "metadata": {},
     "output_type": "execute_result"
    }
   ],
   "source": [
    "arr[::]"
   ]
  },
  {
   "cell_type": "code",
   "execution_count": 8,
   "id": "4857673f-6d2f-4e05-b20e-06d8880484a2",
   "metadata": {},
   "outputs": [
    {
     "data": {
      "text/plain": [
       "array([7, 9, 3])"
      ]
     },
     "execution_count": 8,
     "metadata": {},
     "output_type": "execute_result"
    }
   ],
   "source": [
    "arr[2:5]"
   ]
  },
  {
   "cell_type": "code",
   "execution_count": 9,
   "id": "abbcd682-3b46-4bc7-8fed-29ed7155aec7",
   "metadata": {},
   "outputs": [
    {
     "data": {
      "text/plain": [
       "array([ 5,  7,  3, 20, 60])"
      ]
     },
     "execution_count": 9,
     "metadata": {},
     "output_type": "execute_result"
    }
   ],
   "source": [
    "arr[::2]"
   ]
  },
  {
   "cell_type": "code",
   "execution_count": 10,
   "id": "556b7c1c-cb95-478a-810b-90e4066f32bc",
   "metadata": {},
   "outputs": [
    {
     "data": {
      "text/plain": [
       "np.int64(7)"
      ]
     },
     "execution_count": 10,
     "metadata": {},
     "output_type": "execute_result"
    }
   ],
   "source": [
    "arr[2]"
   ]
  },
  {
   "cell_type": "code",
   "execution_count": 11,
   "id": "68f7484d-7546-4d89-b606-b17a3c7a6a95",
   "metadata": {},
   "outputs": [
    {
     "data": {
      "text/plain": [
       "array([[  2,   4,   6,  -9,  -3],\n",
       "       [  8,  10,  20,   5, -10],\n",
       "       [  3,   6,   8,  10,  15]])"
      ]
     },
     "execution_count": 11,
     "metadata": {},
     "output_type": "execute_result"
    }
   ],
   "source": [
    "arr = np.array([\n",
    "    [2,4,6,-9,-3],\n",
    "    [8,10,20,5,-10],\n",
    "    [3,6,8,10,15]\n",
    "])\n",
    "arr"
   ]
  },
  {
   "cell_type": "code",
   "execution_count": 12,
   "id": "4357a794-c363-4e26-a55f-8693d3d1b1ef",
   "metadata": {},
   "outputs": [
    {
     "data": {
      "text/plain": [
       "array([  8,  10,  20,   5, -10])"
      ]
     },
     "execution_count": 12,
     "metadata": {},
     "output_type": "execute_result"
    }
   ],
   "source": [
    "arr[1]"
   ]
  },
  {
   "cell_type": "code",
   "execution_count": 15,
   "id": "0c2fb3eb-9194-4ef5-b591-2f72415cc639",
   "metadata": {},
   "outputs": [
    {
     "data": {
      "text/plain": [
       "array([10, 20])"
      ]
     },
     "execution_count": 15,
     "metadata": {},
     "output_type": "execute_result"
    }
   ],
   "source": [
    "arr[1,1:3]"
   ]
  },
  {
   "cell_type": "code",
   "execution_count": 16,
   "id": "763e8ef1-d8a1-497d-ba88-760dedfe371e",
   "metadata": {},
   "outputs": [
    {
     "data": {
      "text/plain": [
       "array([[ 4,  6],\n",
       "       [10, 20],\n",
       "       [ 6,  8]])"
      ]
     },
     "execution_count": 16,
     "metadata": {},
     "output_type": "execute_result"
    }
   ],
   "source": [
    "arr[:,1:3]"
   ]
  },
  {
   "cell_type": "code",
   "execution_count": null,
   "id": "5e542536-4645-4278-b2e6-f6dd9f182ef4",
   "metadata": {},
   "outputs": [],
   "source": []
  }
 ],
 "metadata": {
  "kernelspec": {
   "display_name": "Python 3 (ipykernel)",
   "language": "python",
   "name": "python3"
  },
  "language_info": {
   "codemirror_mode": {
    "name": "ipython",
    "version": 3
   },
   "file_extension": ".py",
   "mimetype": "text/x-python",
   "name": "python",
   "nbconvert_exporter": "python",
   "pygments_lexer": "ipython3",
   "version": "3.12.0"
  }
 },
 "nbformat": 4,
 "nbformat_minor": 5
}
