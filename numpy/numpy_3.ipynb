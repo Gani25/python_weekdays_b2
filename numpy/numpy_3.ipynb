{
 "cells": [
  {
   "cell_type": "markdown",
   "id": "84cef6a5-c984-47c2-8c58-582f26269f18",
   "metadata": {},
   "source": [
    "# Numpy Matrix Operations"
   ]
  },
  {
   "cell_type": "markdown",
   "id": "ca02f76f-c58b-47e3-8421-26a24d86bfde",
   "metadata": {},
   "source": [
    "<img src=\"Matrix.png\" alt=\"Image of Matrix Example\" style=\"height:350px;\">"
   ]
  },
  {
   "cell_type": "markdown",
   "id": "00b9864b-4844-41c0-a3d8-5bcd2609b31d",
   "metadata": {},
   "source": [
    "![Demo Image](Matrix.png \"Optional title text\")"
   ]
  },
  {
   "cell_type": "code",
   "execution_count": 3,
   "id": "f9b074a8-63e0-434a-b6e2-e7b652dfc1f1",
   "metadata": {},
   "outputs": [],
   "source": [
    "import numpy as np"
   ]
  },
  {
   "cell_type": "code",
   "execution_count": 4,
   "id": "094a33b2-c460-4f7a-8a53-5aa14994a353",
   "metadata": {},
   "outputs": [
    {
     "data": {
      "text/plain": [
       "array([[60, 10, 90, 40],\n",
       "       [45, 20, 60, 45],\n",
       "       [ 1, 70, 20, 25]])"
      ]
     },
     "execution_count": 4,
     "metadata": {},
     "output_type": "execute_result"
    }
   ],
   "source": [
    "q1_sales = np.array(\n",
    "    [\n",
    "        [60,10,90,40], # Iphone units sold in K\n",
    "        [45,20,60,45],\n",
    "        [1,70,20,25]\n",
    "    ]\n",
    ")\n",
    "q1_sales"
   ]
  },
  {
   "cell_type": "code",
   "execution_count": 5,
   "id": "b5347c47-eb84-433b-a8ce-390ada9ff5df",
   "metadata": {},
   "outputs": [
    {
     "data": {
      "text/plain": [
       "array([[ 40,   5, 100,  60],\n",
       "       [ 50,  20,  75,  30],\n",
       "       [  0,  80,  10,  15]])"
      ]
     },
     "execution_count": 5,
     "metadata": {},
     "output_type": "execute_result"
    }
   ],
   "source": [
    "q2_sales = np.array(\n",
    "    [\n",
    "        [40,5,100,60], # Iphone units sold in K\n",
    "        [50,20,75,30],\n",
    "        [0,80,10,15]\n",
    "    ]\n",
    ")\n",
    "q2_sales"
   ]
  },
  {
   "cell_type": "markdown",
   "id": "3f4def10-70fc-4a8a-8558-ec0b57ceaa87",
   "metadata": {},
   "source": [
    "## Sum of product sold in both quarters"
   ]
  },
  {
   "cell_type": "code",
   "execution_count": 6,
   "id": "b4a82003-8754-4a44-a4f7-1c6f534503cb",
   "metadata": {},
   "outputs": [
    {
     "data": {
      "text/plain": [
       "array([[100,  15, 190, 100],\n",
       "       [ 95,  40, 135,  75],\n",
       "       [  1, 150,  30,  40]])"
      ]
     },
     "execution_count": 6,
     "metadata": {},
     "output_type": "execute_result"
    }
   ],
   "source": [
    "q1_sales + q2_sales"
   ]
  },
  {
   "cell_type": "markdown",
   "id": "9626163a-6ea2-4430-a795-d971e7dc2808",
   "metadata": {},
   "source": [
    "## Sales unit growth from q1 to q2"
   ]
  },
  {
   "cell_type": "code",
   "execution_count": 7,
   "id": "2487fd7e-62ce-4e4e-ad2d-537eacbc081c",
   "metadata": {},
   "outputs": [
    {
     "data": {
      "text/plain": [
       "array([[-20,  -5,  10,  20],\n",
       "       [  5,   0,  15, -15],\n",
       "       [ -1,  10, -10, -10]])"
      ]
     },
     "execution_count": 7,
     "metadata": {},
     "output_type": "execute_result"
    }
   ],
   "source": [
    "q2_sales - q1_sales"
   ]
  },
  {
   "cell_type": "markdown",
   "id": "5c0516f5-fadc-4ea3-a67a-af8e88367998",
   "metadata": {},
   "source": [
    "## Percentage growth in sales from q1 to q2 "
   ]
  },
  {
   "cell_type": "code",
   "execution_count": 8,
   "id": "3fb20892-cd11-4d49-b1bf-6e9d4c7193f1",
   "metadata": {},
   "outputs": [
    {
     "data": {
      "text/plain": [
       "array([[ -33.33333333,  -50.        ,   11.11111111,   50.        ],\n",
       "       [  11.11111111,    0.        ,   25.        ,  -33.33333333],\n",
       "       [-100.        ,   14.28571429,  -50.        ,  -40.        ]])"
      ]
     },
     "execution_count": 8,
     "metadata": {},
     "output_type": "execute_result"
    }
   ],
   "source": [
    "((q2_sales - q1_sales) / q1_sales) * 100"
   ]
  },
  {
   "cell_type": "markdown",
   "id": "9e2a04bc-3bef-4f03-bc78-8aea13f5e22f",
   "metadata": {},
   "source": [
    "# Revenue"
   ]
  },
  {
   "cell_type": "code",
   "execution_count": 9,
   "id": "15ec5b13-c63d-4e0a-8754-cf56de631f4f",
   "metadata": {},
   "outputs": [
    {
     "data": {
      "text/plain": [
       "array([[100,  80,  65,  70],\n",
       "       [ 80,  60,  62,  65],\n",
       "       [ 85,  40,  55,  59]])"
      ]
     },
     "execution_count": 9,
     "metadata": {},
     "output_type": "execute_result"
    }
   ],
   "source": [
    "unit_price = np.array([\n",
    "    [100, 80, 65, 70],\n",
    "    [80, 60, 62, 65],\n",
    "    [85, 40, 55, 59]\n",
    "])\n",
    "unit_price"
   ]
  },
  {
   "cell_type": "code",
   "execution_count": 11,
   "id": "8e3cccef-9537-48d5-83d8-b16e1b1e3beb",
   "metadata": {},
   "outputs": [
    {
     "data": {
      "text/plain": [
       "array([[60, 10, 90, 40],\n",
       "       [45, 20, 60, 45],\n",
       "       [ 1, 70, 20, 25]])"
      ]
     },
     "execution_count": 11,
     "metadata": {},
     "output_type": "execute_result"
    }
   ],
   "source": [
    "q1_sales"
   ]
  },
  {
   "cell_type": "code",
   "execution_count": 10,
   "id": "cb9817b1-cb2a-47d8-8449-0efb644954e2",
   "metadata": {},
   "outputs": [
    {
     "data": {
      "text/plain": [
       "array([[6000,  800, 5850, 2800],\n",
       "       [3600, 1200, 3720, 2925],\n",
       "       [  85, 2800, 1100, 1475]])"
      ]
     },
     "execution_count": 10,
     "metadata": {},
     "output_type": "execute_result"
    }
   ],
   "source": [
    "revenue_q1 = q1_sales * unit_price\n",
    "revenue_q1"
   ]
  },
  {
   "cell_type": "code",
   "execution_count": 12,
   "id": "27145f4e-4925-4535-8b65-929e373b7a39",
   "metadata": {},
   "outputs": [
    {
     "data": {
      "text/plain": [
       "array([[1200.,  160., 1170.,  560.],\n",
       "       [ 720.,  240.,  744.,  585.],\n",
       "       [  17.,  560.,  220.,  295.]])"
      ]
     },
     "execution_count": 12,
     "metadata": {},
     "output_type": "execute_result"
    }
   ],
   "source": [
    "marketing = 0.2 # 20 percent each product\n",
    "q1_expenditure_marketing = revenue_q1 * marketing\n",
    "q1_expenditure_marketing"
   ]
  },
  {
   "cell_type": "code",
   "execution_count": 13,
   "id": "4e00a108-30f3-4ea3-b4e8-13d764e743fd",
   "metadata": {},
   "outputs": [
    {
     "data": {
      "text/plain": [
       "array([[4800.,  640., 4680., 2240.],\n",
       "       [2880.,  960., 2976., 2340.],\n",
       "       [  68., 2240.,  880., 1180.]])"
      ]
     },
     "execution_count": 13,
     "metadata": {},
     "output_type": "execute_result"
    }
   ],
   "source": [
    "net_revenue = revenue_q1 - q1_expenditure_marketing\n",
    "net_revenue"
   ]
  },
  {
   "cell_type": "markdown",
   "id": "32d1dc91-151e-4130-9685-685c4ccf3a72",
   "metadata": {},
   "source": [
    "# Product Of Matrices"
   ]
  },
  {
   "cell_type": "code",
   "execution_count": 15,
   "id": "31411777-13b1-4041-bd03-982560a7e067",
   "metadata": {},
   "outputs": [
    {
     "data": {
      "text/plain": [
       "array([[1200,    2],\n",
       "       [2500,    3]])"
      ]
     },
     "execution_count": 15,
     "metadata": {},
     "output_type": "execute_result"
    }
   ],
   "source": [
    "rooms = np.array([\n",
    "    [1200, 2],\n",
    "    [2500,3]\n",
    "])\n",
    "rooms"
   ]
  },
  {
   "cell_type": "code",
   "execution_count": 16,
   "id": "c42136cd-bdc5-49b4-82a5-2462b7083bbe",
   "metadata": {},
   "outputs": [
    {
     "data": {
      "text/plain": [
       "array([  800, 25000])"
      ]
     },
     "execution_count": 16,
     "metadata": {},
     "output_type": "execute_result"
    }
   ],
   "source": [
    "pricing = np.array([800, 25000])\n",
    "pricing"
   ]
  },
  {
   "cell_type": "code",
   "execution_count": 17,
   "id": "1ec5ee34-f89c-45c5-8184-0165dd921a02",
   "metadata": {},
   "outputs": [
    {
     "name": "stdout",
     "output_type": "stream",
     "text": [
      "1010000\n"
     ]
    }
   ],
   "source": [
    "print(1200*800 + 25000*2)"
   ]
  },
  {
   "cell_type": "code",
   "execution_count": 18,
   "id": "daf3e40a-b185-4536-994b-31f788ddbc03",
   "metadata": {},
   "outputs": [
    {
     "name": "stdout",
     "output_type": "stream",
     "text": [
      "2075000\n"
     ]
    }
   ],
   "source": [
    "print(2500*800 + 25000*3)"
   ]
  },
  {
   "cell_type": "code",
   "execution_count": 19,
   "id": "9119c8ce-2c82-4d89-952c-2e27a3fef4b6",
   "metadata": {},
   "outputs": [
    {
     "data": {
      "text/plain": [
       "array([1010000, 2075000])"
      ]
     },
     "execution_count": 19,
     "metadata": {},
     "output_type": "execute_result"
    }
   ],
   "source": [
    "np.dot(rooms, pricing)"
   ]
  },
  {
   "cell_type": "code",
   "execution_count": null,
   "id": "120cd067-6ddd-4d29-9bcd-1d45551f763a",
   "metadata": {},
   "outputs": [],
   "source": []
  }
 ],
 "metadata": {
  "kernelspec": {
   "display_name": "Python 3 (ipykernel)",
   "language": "python",
   "name": "python3"
  },
  "language_info": {
   "codemirror_mode": {
    "name": "ipython",
    "version": 3
   },
   "file_extension": ".py",
   "mimetype": "text/x-python",
   "name": "python",
   "nbconvert_exporter": "python",
   "pygments_lexer": "ipython3",
   "version": "3.12.0"
  }
 },
 "nbformat": 4,
 "nbformat_minor": 5
}
