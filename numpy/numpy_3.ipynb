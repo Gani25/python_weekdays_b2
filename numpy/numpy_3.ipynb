{
 "cells": [
  {
   "cell_type": "markdown",
   "id": "84cef6a5-c984-47c2-8c58-582f26269f18",
   "metadata": {},
   "source": [
    "# Numpy Matrix Operations"
   ]
  },
  {
   "cell_type": "markdown",
   "id": "ca02f76f-c58b-47e3-8421-26a24d86bfde",
   "metadata": {},
   "source": [
    "<img src=\"Matrix.png\" alt=\"Image of Matrix Example\" style=\"height:350px;\">"
   ]
  },
  {
   "cell_type": "markdown",
   "id": "00b9864b-4844-41c0-a3d8-5bcd2609b31d",
   "metadata": {},
   "source": [
    "![Demo Image](Matrix.png \"Optional title text\")"
   ]
  },
  {
   "cell_type": "code",
   "execution_count": 3,
   "id": "f9b074a8-63e0-434a-b6e2-e7b652dfc1f1",
   "metadata": {},
   "outputs": [],
   "source": [
    "import numpy as np"
   ]
  },
  {
   "cell_type": "code",
   "execution_count": 4,
   "id": "094a33b2-c460-4f7a-8a53-5aa14994a353",
   "metadata": {},
   "outputs": [
    {
     "data": {
      "text/plain": [
       "array([[60, 10, 90, 40],\n",
       "       [45, 20, 60, 45],\n",
       "       [ 1, 70, 20, 25]])"
      ]
     },
     "execution_count": 4,
     "metadata": {},
     "output_type": "execute_result"
    }
   ],
   "source": [
    "q1_sales = np.array(\n",
    "    [\n",
    "        [60,10,90,40], # Iphone units sold in K\n",
    "        [45,20,60,45],\n",
    "        [1,70,20,25]\n",
    "    ]\n",
    ")\n",
    "q1_sales"
   ]
  },
  {
   "cell_type": "code",
   "execution_count": 5,
   "id": "b5347c47-eb84-433b-a8ce-390ada9ff5df",
   "metadata": {},
   "outputs": [
    {
     "data": {
      "text/plain": [
       "array([[ 40,   5, 100,  60],\n",
       "       [ 50,  20,  75,  30],\n",
       "       [  0,  80,  10,  15]])"
      ]
     },
     "execution_count": 5,
     "metadata": {},
     "output_type": "execute_result"
    }
   ],
   "source": [
    "q2_sales = np.array(\n",
    "    [\n",
    "        [40,5,100,60], # Iphone units sold in K\n",
    "        [50,20,75,30],\n",
    "        [0,80,10,15]\n",
    "    ]\n",
    ")\n",
    "q2_sales"
   ]
  },
  {
   "cell_type": "markdown",
   "id": "3f4def10-70fc-4a8a-8558-ec0b57ceaa87",
   "metadata": {},
   "source": [
    "## Sum of product sold in both quarters"
   ]
  },
  {
   "cell_type": "code",
   "execution_count": 6,
   "id": "b4a82003-8754-4a44-a4f7-1c6f534503cb",
   "metadata": {},
   "outputs": [
    {
     "data": {
      "text/plain": [
       "array([[100,  15, 190, 100],\n",
       "       [ 95,  40, 135,  75],\n",
       "       [  1, 150,  30,  40]])"
      ]
     },
     "execution_count": 6,
     "metadata": {},
     "output_type": "execute_result"
    }
   ],
   "source": [
    "q1_sales + q2_sales"
   ]
  },
  {
   "cell_type": "markdown",
   "id": "9626163a-6ea2-4430-a795-d971e7dc2808",
   "metadata": {},
   "source": [
    "## Sales unit growth from q1 to q2"
   ]
  },
  {
   "cell_type": "code",
   "execution_count": 7,
   "id": "2487fd7e-62ce-4e4e-ad2d-537eacbc081c",
   "metadata": {},
   "outputs": [
    {
     "data": {
      "text/plain": [
       "array([[-20,  -5,  10,  20],\n",
       "       [  5,   0,  15, -15],\n",
       "       [ -1,  10, -10, -10]])"
      ]
     },
     "execution_count": 7,
     "metadata": {},
     "output_type": "execute_result"
    }
   ],
   "source": [
    "q2_sales - q1_sales"
   ]
  },
  {
   "cell_type": "markdown",
   "id": "5c0516f5-fadc-4ea3-a67a-af8e88367998",
   "metadata": {},
   "source": [
    "## Percentage growth in sales from q1 to q2 "
   ]
  },
  {
   "cell_type": "code",
   "execution_count": null,
   "id": "3fb20892-cd11-4d49-b1bf-6e9d4c7193f1",
   "metadata": {},
   "outputs": [],
   "source": [
    "((q2_sales - q1_sales) / q1_sales) * 100"
   ]
  }
 ],
 "metadata": {
  "kernelspec": {
   "display_name": "Python 3 (ipykernel)",
   "language": "python",
   "name": "python3"
  },
  "language_info": {
   "codemirror_mode": {
    "name": "ipython",
    "version": 3
   },
   "file_extension": ".py",
   "mimetype": "text/x-python",
   "name": "python",
   "nbconvert_exporter": "python",
   "pygments_lexer": "ipython3",
   "version": "3.12.0"
  }
 },
 "nbformat": 4,
 "nbformat_minor": 5
}
