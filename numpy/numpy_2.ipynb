{
 "cells": [
  {
   "cell_type": "markdown",
   "id": "576c5a70-d08b-4468-8e8f-63f73cd8b9bf",
   "metadata": {},
   "source": [
    "# Numpy Basics "
   ]
  },
  {
   "cell_type": "code",
   "execution_count": 1,
   "id": "bdfec5ca-8437-4cc8-89c5-020dea920b7a",
   "metadata": {},
   "outputs": [],
   "source": [
    "import numpy as np"
   ]
  },
  {
   "cell_type": "code",
   "execution_count": 2,
   "id": "8dc7b1c9-b29c-4cc4-a549-9370b38f8074",
   "metadata": {},
   "outputs": [
    {
     "data": {
      "text/plain": [
       "array([5, 1, 7, 9, 3])"
      ]
     },
     "execution_count": 2,
     "metadata": {},
     "output_type": "execute_result"
    }
   ],
   "source": [
    "arr = np.array([5,1,7,9,3])\n",
    "\n",
    "arr"
   ]
  },
  {
   "cell_type": "code",
   "execution_count": 3,
   "id": "c0e71b7b-8406-4293-a4ce-4b7435601c1d",
   "metadata": {},
   "outputs": [
    {
     "data": {
      "text/plain": [
       "1"
      ]
     },
     "execution_count": 3,
     "metadata": {},
     "output_type": "execute_result"
    }
   ],
   "source": [
    "arr.ndim"
   ]
  },
  {
   "cell_type": "code",
   "execution_count": 26,
   "id": "a4f89076-d308-443a-8d35-cad225f7cbf1",
   "metadata": {},
   "outputs": [],
   "source": [
    "arr.shape\n",
    "\n",
    "product_sold = np.array(\n",
    "    [\n",
    "        [ 25, 10, 18, 15], # iphone\n",
    "        [40, 30, 5, 12], # Samsung\n",
    "        [0, 60, 2, 10] # Huwaei\n",
    "    ], dtype=\"int32\"\n",
    ") "
   ]
  },
  {
   "cell_type": "code",
   "execution_count": 27,
   "id": "86c1f0b3-94a6-453f-b0f8-617d34da46c0",
   "metadata": {},
   "outputs": [
    {
     "data": {
      "text/plain": [
       "array([[25, 10, 18, 15],\n",
       "       [40, 30,  5, 12],\n",
       "       [ 0, 60,  2, 10]], dtype=int32)"
      ]
     },
     "execution_count": 27,
     "metadata": {},
     "output_type": "execute_result"
    }
   ],
   "source": [
    "product_sold"
   ]
  },
  {
   "cell_type": "code",
   "execution_count": 28,
   "id": "edbf8035-086c-4775-a595-c1d5106c15af",
   "metadata": {},
   "outputs": [
    {
     "data": {
      "text/plain": [
       "2"
      ]
     },
     "execution_count": 28,
     "metadata": {},
     "output_type": "execute_result"
    }
   ],
   "source": [
    "product_sold.ndim"
   ]
  },
  {
   "cell_type": "code",
   "execution_count": 29,
   "id": "4e43edf5-c1d9-41d2-962a-023c485b7693",
   "metadata": {},
   "outputs": [
    {
     "data": {
      "text/plain": [
       "(3, 4)"
      ]
     },
     "execution_count": 29,
     "metadata": {},
     "output_type": "execute_result"
    }
   ],
   "source": [
    "product_sold.shape"
   ]
  },
  {
   "cell_type": "code",
   "execution_count": 30,
   "id": "d2b3db26-94d5-4850-9e92-7a2d674cbd96",
   "metadata": {},
   "outputs": [
    {
     "data": {
      "text/plain": [
       "dtype('int32')"
      ]
     },
     "execution_count": 30,
     "metadata": {},
     "output_type": "execute_result"
    }
   ],
   "source": [
    "product_sold.dtype"
   ]
  },
  {
   "cell_type": "code",
   "execution_count": 34,
   "id": "215010a3-7c82-49ce-8e86-73bef7d245ba",
   "metadata": {},
   "outputs": [
    {
     "data": {
      "text/plain": [
       "4"
      ]
     },
     "execution_count": 34,
     "metadata": {},
     "output_type": "execute_result"
    }
   ],
   "source": [
    "product_sold[0][0].nbytes"
   ]
  },
  {
   "cell_type": "code",
   "execution_count": 33,
   "id": "4d8ddad6-85d3-4909-b615-606d097804ad",
   "metadata": {},
   "outputs": [
    {
     "data": {
      "text/plain": [
       "4"
      ]
     },
     "execution_count": 33,
     "metadata": {},
     "output_type": "execute_result"
    }
   ],
   "source": [
    "product_sold.itemsize"
   ]
  },
  {
   "cell_type": "code",
   "execution_count": 35,
   "id": "08645b02-c41f-494a-b5f6-2195d016fa97",
   "metadata": {},
   "outputs": [
    {
     "data": {
      "text/plain": [
       "48"
      ]
     },
     "execution_count": 35,
     "metadata": {},
     "output_type": "execute_result"
    }
   ],
   "source": [
    "product_sold.nbytes"
   ]
  },
  {
   "cell_type": "code",
   "execution_count": null,
   "id": "0dfed22e-ff25-4bc6-aa36-029dff3e3856",
   "metadata": {},
   "outputs": [],
   "source": []
  }
 ],
 "metadata": {
  "kernelspec": {
   "display_name": "Python 3 (ipykernel)",
   "language": "python",
   "name": "python3"
  },
  "language_info": {
   "codemirror_mode": {
    "name": "ipython",
    "version": 3
   },
   "file_extension": ".py",
   "mimetype": "text/x-python",
   "name": "python",
   "nbconvert_exporter": "python",
   "pygments_lexer": "ipython3",
   "version": "3.12.0"
  }
 },
 "nbformat": 4,
 "nbformat_minor": 5
}
