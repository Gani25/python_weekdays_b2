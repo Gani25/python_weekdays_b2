{
 "cells": [
  {
   "cell_type": "markdown",
   "id": "2df50c1d-3140-40e7-84b8-acff6b70e680",
   "metadata": {},
   "source": [
    "# Numpy Basics"
   ]
  },
  {
   "cell_type": "markdown",
   "id": "f7a69cee-8af2-4620-bd86-30345daf40d1",
   "metadata": {},
   "source": [
    "<h1 style=\"text-align:center; background:red; color:yellow;  padding:20px;\">Basics Of Numpy</h1>"
   ]
  },
  {
   "cell_type": "markdown",
   "id": "572f3925-34a6-4bec-b6c6-a519f11cddde",
   "metadata": {},
   "source": [
    "**How To Create Numpy Arrays**"
   ]
  },
  {
   "cell_type": "code",
   "execution_count": 1,
   "id": "f1f74d82-71aa-418d-bc57-40dc90b57432",
   "metadata": {},
   "outputs": [],
   "source": [
    "import numpy as np"
   ]
  },
  {
   "cell_type": "code",
   "execution_count": 2,
   "id": "3753a3a2-812a-4b67-85c4-b41355dfd6b8",
   "metadata": {},
   "outputs": [
    {
     "data": {
      "text/plain": [
       "array([5, 1, 7, 9, 3])"
      ]
     },
     "execution_count": 2,
     "metadata": {},
     "output_type": "execute_result"
    }
   ],
   "source": [
    "arr = np.array([5,1,7,9,3])\n",
    "\n",
    "arr"
   ]
  },
  {
   "cell_type": "code",
   "execution_count": 3,
   "id": "7ce6fa69-eda1-42da-aea6-6df4a0567004",
   "metadata": {},
   "outputs": [
    {
     "name": "stdout",
     "output_type": "stream",
     "text": [
      "[5 1 7 9 3]\n"
     ]
    }
   ],
   "source": [
    "print(arr)"
   ]
  },
  {
   "cell_type": "code",
   "execution_count": 4,
   "id": "9a0eeefb-4f04-45db-a624-012e5ae8bb19",
   "metadata": {},
   "outputs": [
    {
     "data": {
      "text/plain": [
       "numpy.ndarray"
      ]
     },
     "execution_count": 4,
     "metadata": {},
     "output_type": "execute_result"
    }
   ],
   "source": [
    "type(arr)"
   ]
  },
  {
   "cell_type": "code",
   "execution_count": 5,
   "id": "35b324db-f2b9-49c3-8e65-56d72d2461ed",
   "metadata": {},
   "outputs": [
    {
     "data": {
      "text/plain": [
       "(5,)"
      ]
     },
     "execution_count": 5,
     "metadata": {},
     "output_type": "execute_result"
    }
   ],
   "source": [
    "arr.shape"
   ]
  },
  {
   "cell_type": "markdown",
   "id": "c2092578-ca0c-455a-8360-b56e133d4785",
   "metadata": {},
   "source": [
    "---\n",
    "# Numpy Array as Space Efficient\n",
    "---"
   ]
  },
  {
   "cell_type": "code",
   "execution_count": 6,
   "id": "43d5690e-a67a-48fa-a814-326105d4fe18",
   "metadata": {},
   "outputs": [],
   "source": [
    "import sys"
   ]
  },
  {
   "cell_type": "code",
   "execution_count": 7,
   "id": "ac4c8362-3acb-46ba-a0a6-874feb028918",
   "metadata": {},
   "outputs": [
    {
     "data": {
      "text/plain": [
       "list"
      ]
     },
     "execution_count": 7,
     "metadata": {},
     "output_type": "execute_result"
    }
   ],
   "source": [
    "numbers = list(range(1,101))\n",
    "type(numbers)"
   ]
  },
  {
   "cell_type": "code",
   "execution_count": 8,
   "id": "b65ce202-e177-4bef-91d8-62903517c764",
   "metadata": {},
   "outputs": [
    {
     "data": {
      "text/plain": [
       "[1, 2, 3, 4, 5]"
      ]
     },
     "execution_count": 8,
     "metadata": {},
     "output_type": "execute_result"
    }
   ],
   "source": [
    "numbers[:5]"
   ]
  },
  {
   "cell_type": "code",
   "execution_count": 9,
   "id": "1e96b038-e2f3-4397-bef8-031bb32982e1",
   "metadata": {},
   "outputs": [
    {
     "name": "stdout",
     "output_type": "stream",
     "text": [
      "Size taken by list -> of single element in my memory/RAM = 28 bytes\n"
     ]
    }
   ],
   "source": [
    "print(f\"Size taken by list -> of single element in my memory/RAM = {sys.getsizeof(numbers[0])} bytes\" )"
   ]
  },
  {
   "cell_type": "code",
   "execution_count": 10,
   "id": "f9c2409a-70bf-4842-a944-2def1aad0031",
   "metadata": {},
   "outputs": [
    {
     "name": "stdout",
     "output_type": "stream",
     "text": [
      "Size taken by list -> total elements in my memory/RAM = 2800 bytes\n"
     ]
    }
   ],
   "source": [
    "print(f\"Size taken by list -> total elements in my memory/RAM = {sys.getsizeof(numbers[0]) * len(numbers) } bytes\" )"
   ]
  },
  {
   "cell_type": "markdown",
   "id": "4f864df2-34ec-4e10-92fa-d8a9eb5b600b",
   "metadata": {},
   "source": [
    "## Numpy Arrays"
   ]
  },
  {
   "cell_type": "code",
   "execution_count": 12,
   "id": "f8486959-4338-4322-86d9-21eddc698da1",
   "metadata": {},
   "outputs": [
    {
     "data": {
      "text/plain": [
       "numpy.ndarray"
      ]
     },
     "execution_count": 12,
     "metadata": {},
     "output_type": "execute_result"
    }
   ],
   "source": [
    "numpy_arr = np.arange(1,101)\n",
    "type(numpy_arr)"
   ]
  },
  {
   "cell_type": "code",
   "execution_count": 13,
   "id": "0bc6a211-90eb-4628-9075-156332efaf97",
   "metadata": {},
   "outputs": [
    {
     "data": {
      "text/plain": [
       "array([1, 2, 3, 4, 5])"
      ]
     },
     "execution_count": 13,
     "metadata": {},
     "output_type": "execute_result"
    }
   ],
   "source": [
    "numpy_arr[:5]"
   ]
  },
  {
   "cell_type": "code",
   "execution_count": 14,
   "id": "99c1e0e0-530d-493a-9c29-c99f3cd613a6",
   "metadata": {},
   "outputs": [
    {
     "data": {
      "text/plain": [
       "array([  1,   2,   3,   4,   5,   6,   7,   8,   9,  10,  11,  12,  13,\n",
       "        14,  15,  16,  17,  18,  19,  20,  21,  22,  23,  24,  25,  26,\n",
       "        27,  28,  29,  30,  31,  32,  33,  34,  35,  36,  37,  38,  39,\n",
       "        40,  41,  42,  43,  44,  45,  46,  47,  48,  49,  50,  51,  52,\n",
       "        53,  54,  55,  56,  57,  58,  59,  60,  61,  62,  63,  64,  65,\n",
       "        66,  67,  68,  69,  70,  71,  72,  73,  74,  75,  76,  77,  78,\n",
       "        79,  80,  81,  82,  83,  84,  85,  86,  87,  88,  89,  90,  91,\n",
       "        92,  93,  94,  95,  96,  97,  98,  99, 100])"
      ]
     },
     "execution_count": 14,
     "metadata": {},
     "output_type": "execute_result"
    }
   ],
   "source": [
    "numpy_arr"
   ]
  },
  {
   "cell_type": "code",
   "execution_count": 16,
   "id": "a3aa3f2e-cdd4-423a-b947-084338c48339",
   "metadata": {},
   "outputs": [
    {
     "name": "stdout",
     "output_type": "stream",
     "text": [
      "Size of one (1) element of numpy array = 8 bytes\n",
      "Size of total numpy array = 800 bytes\n"
     ]
    }
   ],
   "source": [
    "print(f\"Size of one (1) element of numpy array = {numpy_arr[0].nbytes} bytes\")\n",
    "print(f\"Size of total numpy array = {numpy_arr.nbytes} bytes\")"
   ]
  },
  {
   "cell_type": "code",
   "execution_count": 17,
   "id": "d59c5f73-6656-4133-9004-50542b6aad56",
   "metadata": {},
   "outputs": [
    {
     "data": {
      "text/plain": [
       "dtype('int64')"
      ]
     },
     "execution_count": 17,
     "metadata": {},
     "output_type": "execute_result"
    }
   ],
   "source": [
    "numpy_arr.dtype"
   ]
  },
  {
   "cell_type": "code",
   "execution_count": 18,
   "id": "f6361d8b-2178-4b87-9072-6dd722d7d96f",
   "metadata": {},
   "outputs": [
    {
     "data": {
      "text/plain": [
       "numpy.ndarray"
      ]
     },
     "execution_count": 18,
     "metadata": {},
     "output_type": "execute_result"
    }
   ],
   "source": [
    "numpy_arr = np.arange(1,101, dtype=\"int16\")\n",
    "type(numpy_arr)"
   ]
  },
  {
   "cell_type": "code",
   "execution_count": 19,
   "id": "3daebcd5-3735-48ff-adb5-fee9e303deb2",
   "metadata": {},
   "outputs": [
    {
     "data": {
      "text/plain": [
       "array([  1,   2,   3,   4,   5,   6,   7,   8,   9,  10,  11,  12,  13,\n",
       "        14,  15,  16,  17,  18,  19,  20,  21,  22,  23,  24,  25,  26,\n",
       "        27,  28,  29,  30,  31,  32,  33,  34,  35,  36,  37,  38,  39,\n",
       "        40,  41,  42,  43,  44,  45,  46,  47,  48,  49,  50,  51,  52,\n",
       "        53,  54,  55,  56,  57,  58,  59,  60,  61,  62,  63,  64,  65,\n",
       "        66,  67,  68,  69,  70,  71,  72,  73,  74,  75,  76,  77,  78,\n",
       "        79,  80,  81,  82,  83,  84,  85,  86,  87,  88,  89,  90,  91,\n",
       "        92,  93,  94,  95,  96,  97,  98,  99, 100], dtype=int16)"
      ]
     },
     "execution_count": 19,
     "metadata": {},
     "output_type": "execute_result"
    }
   ],
   "source": [
    "numpy_arr"
   ]
  },
  {
   "cell_type": "code",
   "execution_count": 20,
   "id": "b0b349ac-41e0-4912-9617-ad8429c14138",
   "metadata": {},
   "outputs": [
    {
     "name": "stdout",
     "output_type": "stream",
     "text": [
      "Size of one (1) element of numpy array = 2 bytes\n",
      "Size of total numpy array = 200 bytes\n"
     ]
    }
   ],
   "source": [
    "print(f\"Size of one (1) element of numpy array = {numpy_arr[0].nbytes} bytes\")\n",
    "print(f\"Size of total numpy array = {numpy_arr.nbytes} bytes\")"
   ]
  },
  {
   "cell_type": "code",
   "execution_count": 21,
   "id": "49227788-97ff-4ea3-8b64-6cd86fbca433",
   "metadata": {},
   "outputs": [
    {
     "data": {
      "text/plain": [
       "numpy.ndarray"
      ]
     },
     "execution_count": 21,
     "metadata": {},
     "output_type": "execute_result"
    }
   ],
   "source": [
    "numpy_arr = np.arange(1,101, dtype=\"int8\")\n",
    "type(numpy_arr)"
   ]
  },
  {
   "cell_type": "code",
   "execution_count": 22,
   "id": "2960b8f1-f5f2-4547-bdda-aa1e191500a6",
   "metadata": {},
   "outputs": [
    {
     "data": {
      "text/plain": [
       "array([  1,   2,   3,   4,   5,   6,   7,   8,   9,  10,  11,  12,  13,\n",
       "        14,  15,  16,  17,  18,  19,  20,  21,  22,  23,  24,  25,  26,\n",
       "        27,  28,  29,  30,  31,  32,  33,  34,  35,  36,  37,  38,  39,\n",
       "        40,  41,  42,  43,  44,  45,  46,  47,  48,  49,  50,  51,  52,\n",
       "        53,  54,  55,  56,  57,  58,  59,  60,  61,  62,  63,  64,  65,\n",
       "        66,  67,  68,  69,  70,  71,  72,  73,  74,  75,  76,  77,  78,\n",
       "        79,  80,  81,  82,  83,  84,  85,  86,  87,  88,  89,  90,  91,\n",
       "        92,  93,  94,  95,  96,  97,  98,  99, 100], dtype=int8)"
      ]
     },
     "execution_count": 22,
     "metadata": {},
     "output_type": "execute_result"
    }
   ],
   "source": [
    "numpy_arr"
   ]
  },
  {
   "cell_type": "code",
   "execution_count": 23,
   "id": "dc3551ee-6b73-4ee5-9e81-c5107b06acc2",
   "metadata": {},
   "outputs": [
    {
     "name": "stdout",
     "output_type": "stream",
     "text": [
      "Size of one (1) element of numpy array = 1 bytes\n",
      "Size of total numpy array = 100 bytes\n"
     ]
    }
   ],
   "source": [
    "print(f\"Size of one (1) element of numpy array = {numpy_arr[0].nbytes} bytes\")\n",
    "print(f\"Size of total numpy array = {numpy_arr.nbytes} bytes\")"
   ]
  },
  {
   "cell_type": "code",
   "execution_count": 24,
   "id": "d180e3f3-a374-43d5-9c31-d937e24fe800",
   "metadata": {},
   "outputs": [
    {
     "data": {
      "text/plain": [
       "array([   1,    2,    3,    4,    5,    6,    7,    8,    9,   10,   11,\n",
       "         12,   13,   14,   15,   16,   17,   18,   19,   20,   21,   22,\n",
       "         23,   24,   25,   26,   27,   28,   29,   30,   31,   32,   33,\n",
       "         34,   35,   36,   37,   38,   39,   40,   41,   42,   43,   44,\n",
       "         45,   46,   47,   48,   49,   50,   51,   52,   53,   54,   55,\n",
       "         56,   57,   58,   59,   60,   61,   62,   63,   64,   65,   66,\n",
       "         67,   68,   69,   70,   71,   72,   73,   74,   75,   76,   77,\n",
       "         78,   79,   80,   81,   82,   83,   84,   85,   86,   87,   88,\n",
       "         89,   90,   91,   92,   93,   94,   95,   96,   97,   98,   99,\n",
       "        100,  101,  102,  103,  104,  105,  106,  107,  108,  109,  110,\n",
       "        111,  112,  113,  114,  115,  116,  117,  118,  119,  120,  121,\n",
       "        122,  123,  124,  125,  126,  127, -128, -127, -126, -125, -124,\n",
       "       -123, -122, -121, -120, -119, -118, -117, -116, -115, -114, -113,\n",
       "       -112, -111, -110, -109, -108, -107], dtype=int8)"
      ]
     },
     "execution_count": 24,
     "metadata": {},
     "output_type": "execute_result"
    }
   ],
   "source": [
    "numpy_arr = np.arange(1,150, dtype=\"int8\")\n",
    "numpy_arr"
   ]
  },
  {
   "cell_type": "code",
   "execution_count": null,
   "id": "4a2ee1a9-d348-4a47-a380-9d5eaf379ed5",
   "metadata": {},
   "outputs": [],
   "source": []
  },
  {
   "cell_type": "markdown",
   "id": "1298703c-f5b5-4ba5-a11e-42746688ffcc",
   "metadata": {},
   "source": [
    "# Time Efficient"
   ]
  },
  {
   "cell_type": "code",
   "execution_count": 30,
   "id": "e9b931e1-0974-4ed3-b3b3-31b04f4ecbed",
   "metadata": {},
   "outputs": [],
   "source": [
    "import time as t"
   ]
  },
  {
   "cell_type": "markdown",
   "id": "5a0f1853-5dcb-417b-86ef-c374199da7d3",
   "metadata": {},
   "source": [
    "**Create 2 list and add both list  and store in 3rd list size of list is 10000000 (10M)**"
   ]
  },
  {
   "cell_type": "code",
   "execution_count": 34,
   "id": "f4f89cfb-32f9-4d53-8bc7-8a4bab3d3fd9",
   "metadata": {},
   "outputs": [
    {
     "name": "stdout",
     "output_type": "stream",
     "text": [
      "First 10 elements of list 1 = [1, 2, 3, 4, 5, 6, 7, 8, 9, 10]\n",
      "Last 10 elements of list 1 = [10000000, 9999999, 9999998, 9999997, 9999996, 9999995, 9999994, 9999993, 9999992]\n"
     ]
    }
   ],
   "source": [
    "list1 = list(range(1,10000001))\n",
    "print(f\"First 10 elements of list 1 = {list1[:10]}\")\n",
    "print(f\"Last 10 elements of list 1 = {list1[-1:-10:-1]}\")"
   ]
  },
  {
   "cell_type": "code",
   "execution_count": 33,
   "id": "c5310a6f-7354-43da-ab08-72664e42fa5d",
   "metadata": {},
   "outputs": [
    {
     "data": {
      "text/plain": [
       "[1, 2, 3, 4, 5, 6, 7, 8, 9, 10]"
      ]
     },
     "execution_count": 33,
     "metadata": {},
     "output_type": "execute_result"
    }
   ],
   "source": [
    "list2 = list(range(1,10000001))\n",
    "list2[:10]"
   ]
  },
  {
   "cell_type": "code",
   "execution_count": 29,
   "id": "f2ed81da-50fa-408d-aed5-82f10471c794",
   "metadata": {},
   "outputs": [],
   "source": [
    "list3 = []"
   ]
  },
  {
   "cell_type": "code",
   "execution_count": 31,
   "id": "b0a5ba3a-9527-4587-854a-a016e899bce9",
   "metadata": {},
   "outputs": [
    {
     "name": "stdout",
     "output_type": "stream",
     "text": [
      "Start time before starting addition of 2 lists = 1759141912.958269 sec\n",
      "End time after addition of 2 lists = 1759141913.3560233 sec\n",
      "Time take to compelete addition of 1M data in 2 lists = 0.397754430770874 seconds\n",
      "List 3 -> first 10 elements are: [2, 4, 6, 8, 10, 12, 14, 16, 18, 20]\n",
      "List 3 -> last 10 elements are: [2000000, 1999998, 1999996, 1999994, 1999992, 1999990, 1999988, 1999986, 1999984]\n"
     ]
    }
   ],
   "source": [
    "start_time = t.time()\n",
    "print(f\"Start time before starting addition of 2 lists = {start_time} sec\")\n",
    "\n",
    "for index in range(len(list1)):\n",
    "    list3.append(list1[index] + list2[index])\n",
    "\n",
    "end_time = t.time()\n",
    "print(f\"End time after addition of 2 lists = {end_time} sec\")\n",
    "print(f\"Time take to compelete addition of 1M data in 2 lists = {end_time - start_time} seconds\")\n",
    "\n",
    "print(f\"List 3 -> first 10 elements are: {list3[:10]}\")\n",
    "print(f\"List 3 -> last 10 elements are: {list3[-1:-10:-1]}\")\n"
   ]
  },
  {
   "cell_type": "code",
   "execution_count": null,
   "id": "406cec8a-30b4-441c-bbc0-e26046beebd5",
   "metadata": {},
   "outputs": [],
   "source": []
  }
 ],
 "metadata": {
  "kernelspec": {
   "display_name": "Python 3 (ipykernel)",
   "language": "python",
   "name": "python3"
  },
  "language_info": {
   "codemirror_mode": {
    "name": "ipython",
    "version": 3
   },
   "file_extension": ".py",
   "mimetype": "text/x-python",
   "name": "python",
   "nbconvert_exporter": "python",
   "pygments_lexer": "ipython3",
   "version": "3.12.0"
  }
 },
 "nbformat": 4,
 "nbformat_minor": 5
}
